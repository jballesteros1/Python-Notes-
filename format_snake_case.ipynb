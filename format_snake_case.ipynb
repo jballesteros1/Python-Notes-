{
 "cells": [
  {
   "cell_type": "code",
   "execution_count": 2,
   "metadata": {
    "scrolled": true
   },
   "outputs": [],
   "source": [
    "import csv, re\n",
    "path = ('C:/ProjectFiles/inpatient_2014.csv')\n",
    "file = open(path,newline='')\n",
    "d_reader = csv.DictReader(file)\n",
    "reader = csv.reader(file)\n",
    "\n",
    "\n",
    "header = d_reader.fieldnames # the first line is the header\n",
    "h = header\n",
    "\n",
    "def snake_case(h):\n",
    "    return re.sub(r'\\s','_',h).strip('_').lower()\n",
    "\n",
    "new_header = [snake_case(item) for item in h]\n",
    "\n",
    "new_path = ('new_inpatient2014.csv')\n",
    "with open(new_path, 'w',newline='') as new_file:  # doesn't need newline=''\n",
    "\n",
    "    output_writer = csv.writer(new_file, delimiter = ',')  # or writer = / csv_writer =\n",
    "    output_writer.writerow(new_header) \n",
    "    for line in reader:\n",
    "        output_writer.writerow(line)\n",
    "        \n",
    "new_file.close()"
   ]
  }
 ],
 "metadata": {
  "kernelspec": {
   "display_name": "Python 3",
   "language": "python",
   "name": "python3"
  },
  "language_info": {
   "codemirror_mode": {
    "name": "ipython",
    "version": 3
   },
   "file_extension": ".py",
   "mimetype": "text/x-python",
   "name": "python",
   "nbconvert_exporter": "python",
   "pygments_lexer": "ipython3",
   "version": "3.8.5"
  }
 },
 "nbformat": 4,
 "nbformat_minor": 4
}
